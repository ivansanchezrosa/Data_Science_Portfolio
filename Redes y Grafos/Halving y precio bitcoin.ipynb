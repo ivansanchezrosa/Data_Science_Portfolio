{
 "cells": [
  {
   "cell_type": "markdown",
   "metadata": {},
   "source": [
    "## Análisis del proceso Halving y su efecto en el precio del bitcoin"
   ]
  },
  {
   "cell_type": "markdown",
   "metadata": {},
   "source": [
    "# Extracción de datos"
   ]
  },
  {
   "cell_type": "code",
   "execution_count": 2,
   "metadata": {},
   "outputs": [],
   "source": [
    "####input your credentials here\n",
    "consumer_key = \n",
    "consumer_secret = \n",
    "access_token = \n",
    "access_token_secret = "
   ]
  },
  {
   "cell_type": "code",
   "execution_count": 3,
   "metadata": {},
   "outputs": [],
   "source": [
    "import tweepy"
   ]
  },
  {
   "cell_type": "code",
   "execution_count": 4,
   "metadata": {},
   "outputs": [],
   "source": [
    "# Autenticación\n",
    "auth = tweepy.OAuthHandler(consumer_key, consumer_secret)\n",
    "auth.set_access_token(access_token, access_token_secret)\n",
    "\n",
    "# Módulo api de Tweepy y con wait lo que hacemos es que si se acaba el cupo de redlimits mi programa no se cae\n",
    "api = tweepy.API(auth, wait_on_rate_limit = True, wait_on_rate_limit_notify=True) \n"
   ]
  },
  {
   "cell_type": "code",
   "execution_count": 6,
   "metadata": {},
   "outputs": [
    {
     "name": "stdout",
     "output_type": "stream",
     "text": [
      "1 |\n",
      "- Bitcoin #hashrate has dropped by almost a third since #halving \n",
      "- #Satoshi may be back \n",
      "- #Bitcoin price is falling \n",
      "- permanent and future #scalability problems \n",
      "- #centralization problem \n",
      "- overpriced #transactionfees \n",
      "- no #usecases\n",
      "#Bitcoin Users Are Paying $7 #USD in Fees Per Transaction After It Spikes 265% Post-#Halving\n",
      "\n",
      "Current #BTC Price: 📉 $9,356.63 (-4.23%)\n",
      "\n",
      "https://t.co/4hmzkPGXUr\n",
      "#Miner revenues crash, but this has always marked #bitcoin price bottoms https://t.co/vnnXIBjlpW $BTC #crypto #cryptocurrency #macro #halving #bullish #trend #volatility #PuellMultiple #RSI #MACD\n",
      "RT @SmartCryptoNew1: MARKET VIEWS📈\n",
      "#Bitcoin (BTC) options markets are finally taking off at CME. As #halving day uncertainties became less…\n",
      "Es un RT y su texto completo es: MARKET VIEWS📈\n",
      "#Bitcoin (BTC) options markets are finally taking off at CME. As #halving day uncertainties became less of a risk, institutional investors began mounting bullish positions.\n",
      "DETAILS➡ https://t.co/mCy9lXALs1\n",
      "#BTC #market #SCN1\n",
      "@coinkit_ mon 10 100 BTC\n",
      "RT @SmartCryptoNew1: MARKET VIEWS📈\n",
      "#Bitcoin (BTC) options markets are finally taking off at CME. As #halving day uncertainties became less…\n",
      "Es un RT y su texto completo es: MARKET VIEWS📈\n",
      "#Bitcoin (BTC) options markets are finally taking off at CME. As #halving day uncertainties became less of a risk, institutional investors began mounting bullish positions.\n",
      "DETAILS➡ https://t.co/mCy9lXALs1\n",
      "#BTC #market #SCN1\n",
      "@coinkit_ mon 10 100 BTC\n",
      "RT @488exPH: In case you don't know, the block reward halving tends to have long-term positive effects on the price of #bitcoin. That is wh…\n",
      "Es un RT y su texto completo es: In case you don't know, the block reward halving tends to have long-term positive effects on the price of #bitcoin. That is why it is now the best time to invest in it.\n",
      "\n",
      "Begin your investing journey today at https://t.co/wHt3Bweht8!\n",
      "\n",
      "#halving #cryptoexchange #488exPH https://t.co/uyoPdXxDo7\n",
      "In case you don't know, the block reward halving tends to have long-term positive effects on the price of #bitcoin. That is why it is now the best time to invest in it.\n",
      "\n",
      "Begin your investing journey today at https://t.co/wHt3Bweht8!\n",
      "\n",
      "#halving #cryptoexchange #488exPH https://t.co/uyoPdXxDo7\n",
      "RT @desota: #Bitcoin stalls at key $10,000 #resistance level, but has significant upside if it can break through https://t.co/xj4lG0tvkf $B…\n",
      "Es un RT y su texto completo es: #Bitcoin stalls at key $10,000 #resistance level, but has significant upside if it can break through https://t.co/xj4lG0tvkf $BTC #crypto #cryptocurrency #stalled #key #resistance #level #halving #miners #investors\n",
      "#Bitcoin stalls at key $10,000 #resistance level, but has significant upside if it can break through https://t.co/xj4lG0tvkf $BTC #crypto #cryptocurrency #stalled #key #resistance #level #halving #miners #investors\n",
      "RT @AgainstAllTides: The primary source of sell pressure on the price of #Bitcoin comes from miners. That's why you need to understand how…\n",
      "Es un RT y su texto completo es: The primary source of sell pressure on the price of #Bitcoin comes from miners. That's why you need to understand how miner capitulation will shape market structure post #Halving \n",
      " \n",
      "This analysis @BlockwareTeam made is a must-read!\n",
      "\n",
      "https://t.co/vUbUQ3TtiE\n"
     ]
    }
   ],
   "source": [
    "# Hagamos una búsqueda de Tweets con la palabra #bitcoin AND #halving price\n",
    "\n",
    "for tweet in tweepy.Cursor(api.search,q=('#bitcoin', '#halving', 'price'),count=100,\n",
    "                           tweet_mode= 'extended').items(10):\n",
    "    print(tweet._json['full_text'])\n",
    "    \n",
    "    if 'retweeted_status' in tweet._json:\n",
    "        print(\"Es un RT y su texto completo es: \" + tweet._json['retweeted_status']['full_text'])\n",
    "\n"
   ]
  },
  {
   "cell_type": "markdown",
   "metadata": {},
   "source": [
    "# Guardado de datos en la base de datos MongoDb"
   ]
  },
  {
   "cell_type": "code",
   "execution_count": 39,
   "metadata": {},
   "outputs": [],
   "source": [
    "# Importamos PyMongo\n",
    "from pymongo import MongoClient\n",
    "\n",
    "# Creamos una conexión con la BBDD\n",
    "client = MongoClient()\n",
    "           \n",
    "# Usamos una base de datos llamada pec2\n",
    "db = client.pec2\n",
    "\n",
    "# Y cada Tweet es almacenado en una colección llamada \"tweets\"\n",
    "for tweet in tweepy.Cursor(api.search,q=('#bitcoin', '#halving', 'price'),count=100,\n",
    "                           tweet_mode= 'extended').items(5000):\n",
    "    db.tweets.insert_one(tweet._json)"
   ]
  },
  {
   "cell_type": "markdown",
   "metadata": {},
   "source": [
    "# Recuperación de datos y montaje del grafo"
   ]
  },
  {
   "cell_type": "code",
   "execution_count": 40,
   "metadata": {},
   "outputs": [],
   "source": [
    "import networkx as nx\n",
    "\n",
    "G = nx.DiGraph()\n",
    "\n",
    "for result in db.tweets.find():\n",
    "            uid = result['user']['screen_name']\n",
    "            G.add_node(uid) # si ya existe lo omite solo\n",
    "            \n",
    "           \n",
    "            if 'retweeted_status' in result:\n",
    "                if G.has_edge(uid, result['retweeted_status']['user']['screen_name']):\n",
    "                    G[uid][result['retweeted_status']['user']['screen_name']]['weight'] += 1.0\n",
    "                else:\n",
    "                    G.add_edge(uid, result['retweeted_status']['user']['screen_name'], weight = 1.0) "
   ]
  },
  {
   "cell_type": "code",
   "execution_count": 41,
   "metadata": {},
   "outputs": [
    {
     "data": {
      "text/plain": [
       "1989"
      ]
     },
     "execution_count": 41,
     "metadata": {},
     "output_type": "execute_result"
    }
   ],
   "source": [
    "len(list(G.node))\n"
   ]
  },
  {
   "cell_type": "markdown",
   "metadata": {},
   "source": [
    "Pasamos el grafico al formato graphml"
   ]
  },
  {
   "cell_type": "code",
   "execution_count": 42,
   "metadata": {},
   "outputs": [],
   "source": [
    "#Guardamos en un graphml para después importarlo en Gephi\n",
    "\n",
    "nx.write_graphml_lxml(G, \"halving.graphml\")"
   ]
  },
  {
   "cell_type": "code",
   "execution_count": null,
   "metadata": {},
   "outputs": [],
   "source": []
  },
  {
   "cell_type": "code",
   "execution_count": null,
   "metadata": {},
   "outputs": [],
   "source": []
  }
 ],
 "metadata": {
  "kernelspec": {
   "display_name": "Python 3",
   "language": "python",
   "name": "python3"
  },
  "language_info": {
   "codemirror_mode": {
    "name": "ipython",
    "version": 3
   },
   "file_extension": ".py",
   "mimetype": "text/x-python",
   "name": "python",
   "nbconvert_exporter": "python",
   "pygments_lexer": "ipython3",
   "version": "3.8.5"
  }
 },
 "nbformat": 4,
 "nbformat_minor": 4
}
